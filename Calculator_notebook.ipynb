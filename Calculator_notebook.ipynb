{
 "cells": [
  {
   "cell_type": "code",
   "execution_count": 1,
   "id": "0b3c363e-817e-4589-bac8-a304428536b2",
   "metadata": {},
   "outputs": [],
   "source": [
    "from calculator import Calculator as c"
   ]
  },
  {
   "cell_type": "code",
   "execution_count": 2,
   "id": "d276590e-38f6-4479-bc0f-c33657a2f562",
   "metadata": {
    "scrolled": true
   },
   "outputs": [
    {
     "name": "stdout",
     "output_type": "stream",
     "text": [
      "Memory value: 0\n"
     ]
    }
   ],
   "source": [
    "calc = c()\n",
    "res = calc.add(3)"
   ]
  },
  {
   "cell_type": "code",
   "execution_count": 3,
   "id": "447c9fb6-ee0f-413c-a970-e275df91769a",
   "metadata": {},
   "outputs": [
    {
     "name": "stdout",
     "output_type": "stream",
     "text": [
      "Memory value: 3\n"
     ]
    }
   ],
   "source": [
    "res = calc.add(10.3)"
   ]
  },
  {
   "cell_type": "code",
   "execution_count": 4,
   "id": "341b3d4e-2fb6-44fd-b0ad-15aa275d25d7",
   "metadata": {},
   "outputs": [
    {
     "name": "stdout",
     "output_type": "stream",
     "text": [
      "Memory value: 13.3\n"
     ]
    }
   ],
   "source": [
    "res = calc.substract(1)"
   ]
  },
  {
   "cell_type": "code",
   "execution_count": null,
   "id": "ecffe9a8-d331-415a-a15b-993ed36b9b69",
   "metadata": {},
   "outputs": [],
   "source": []
  }
 ],
 "metadata": {
  "kernelspec": {
   "display_name": "Python 3 (ipykernel)",
   "language": "python",
   "name": "python3"
  },
  "language_info": {
   "codemirror_mode": {
    "name": "ipython",
    "version": 3
   },
   "file_extension": ".py",
   "mimetype": "text/x-python",
   "name": "python",
   "nbconvert_exporter": "python",
   "pygments_lexer": "ipython3",
   "version": "3.11.7"
  }
 },
 "nbformat": 4,
 "nbformat_minor": 5
}
